{
 "cells": [
  {
   "cell_type": "markdown",
   "id": "27bc1631",
   "metadata": {},
   "source": [
    "bOOL+EAN"
   ]
  },
  {
   "cell_type": "markdown",
   "id": "bfa1dc61",
   "metadata": {},
   "source": [
    "boolean commands"
   ]
  },
  {
   "cell_type": "code",
   "execution_count": 48,
   "id": "bf5b2d4b",
   "metadata": {},
   "outputs": [
    {
     "data": {
      "text/plain": [
       "str"
      ]
     },
     "execution_count": 48,
     "metadata": {},
     "output_type": "execute_result"
    }
   ],
   "source": [
    "type(\"iN2DIA\")"
   ]
  },
  {
   "cell_type": "code",
   "execution_count": 47,
   "id": "10592f5f",
   "metadata": {},
   "outputs": [
    {
     "data": {
      "text/plain": [
       "str"
      ]
     },
     "execution_count": 47,
     "metadata": {},
     "output_type": "execute_result"
    }
   ],
   "source": [
    "type(\"ing\")"
   ]
  },
  {
   "cell_type": "code",
   "execution_count": 24,
   "id": "b8758a62",
   "metadata": {},
   "outputs": [
    {
     "name": "stdout",
     "output_type": "stream",
     "text": [
      "ENTER ANY VALUE x4.5\n",
      "Ent+er th+e valu+e of y83\n",
      "87.5\n"
     ]
    },
    {
     "data": {
      "text/plain": [
       "float"
      ]
     },
     "execution_count": 24,
     "metadata": {},
     "output_type": "execute_result"
    }
   ],
   "source": [
    "x=float(input(\"ENTER ANY VALUE x\"))\n",
    "y=float(input(\"Ent+er th+e valu+e of y\"))\n",
    "print(x+y)\n",
    "type(x+y)\n",
    "\n"
   ]
  },
  {
   "cell_type": "code",
   "execution_count": 22,
   "id": "a869b212",
   "metadata": {},
   "outputs": [
    {
     "data": {
      "text/plain": [
       "int"
      ]
     },
     "execution_count": 22,
     "metadata": {},
     "output_type": "execute_result"
    }
   ],
   "source": []
  },
  {
   "cell_type": "code",
   "execution_count": 5,
   "id": "331e8ead",
   "metadata": {},
   "outputs": [
    {
     "name": "stdout",
     "output_type": "stream",
     "text": [
      "how ar you\n"
     ]
    }
   ],
   "source": [
    "print(\"how ar you\")"
   ]
  },
  {
   "cell_type": "code",
   "execution_count": 22,
   "id": "b7a23971",
   "metadata": {},
   "outputs": [],
   "source": [
    "list1=[10,12,1,14]"
   ]
  },
  {
   "cell_type": "code",
   "execution_count": 15,
   "id": "d7e74878",
   "metadata": {},
   "outputs": [],
   "source": [
    "list2=[14,15,18,19]"
   ]
  },
  {
   "cell_type": "code",
   "execution_count": 16,
   "id": "3b1e7dc6",
   "metadata": {},
   "outputs": [
    {
     "data": {
      "text/plain": [
       "[2]"
      ]
     },
     "execution_count": 16,
     "metadata": {},
     "output_type": "execute_result"
    }
   ],
   "source": [
    "list1"
   ]
  },
  {
   "cell_type": "code",
   "execution_count": 34,
   "id": "d390f4de",
   "metadata": {},
   "outputs": [
    {
     "data": {
      "text/plain": [
       "18"
      ]
     },
     "execution_count": 34,
     "metadata": {},
     "output_type": "execute_result"
    }
   ],
   "source": [
    "list2[2]"
   ]
  },
  {
   "cell_type": "code",
   "execution_count": 18,
   "id": "388b2977",
   "metadata": {},
   "outputs": [
    {
     "data": {
      "text/plain": [
       "[14, 15, 18, 19]"
      ]
     },
     "execution_count": 18,
     "metadata": {},
     "output_type": "execute_result"
    }
   ],
   "source": [
    "list2"
   ]
  },
  {
   "cell_type": "code",
   "execution_count": 19,
   "id": "61b2e971",
   "metadata": {},
   "outputs": [
    {
     "data": {
      "text/plain": [
       "18"
      ]
     },
     "execution_count": 19,
     "metadata": {},
     "output_type": "execute_result"
    }
   ],
   "source": [
    "list2[2]"
   ]
  },
  {
   "cell_type": "code",
   "execution_count": 20,
   "id": "f1885a9f",
   "metadata": {},
   "outputs": [
    {
     "data": {
      "text/plain": [
       "list[1]"
      ]
     },
     "execution_count": 20,
     "metadata": {},
     "output_type": "execute_result"
    }
   ],
   "source": [
    "list[1]"
   ]
  },
  {
   "cell_type": "code",
   "execution_count": 23,
   "id": "6156de87",
   "metadata": {},
   "outputs": [
    {
     "data": {
      "text/plain": [
       "[10, 12, 1, 14]"
      ]
     },
     "execution_count": 23,
     "metadata": {},
     "output_type": "execute_result"
    }
   ],
   "source": [
    "list1"
   ]
  },
  {
   "cell_type": "code",
   "execution_count": 24,
   "id": "9eeb26cf",
   "metadata": {},
   "outputs": [
    {
     "data": {
      "text/plain": [
       "[12]"
      ]
     },
     "execution_count": 24,
     "metadata": {},
     "output_type": "execute_result"
    }
   ],
   "source": [
    "list1[1:2]"
   ]
  },
  {
   "cell_type": "code",
   "execution_count": 25,
   "id": "bb274cc7",
   "metadata": {},
   "outputs": [
    {
     "data": {
      "text/plain": [
       "[10, 12, 1, 14]"
      ]
     },
     "execution_count": 25,
     "metadata": {},
     "output_type": "execute_result"
    }
   ],
   "source": [
    "list1[0:4]"
   ]
  },
  {
   "cell_type": "code",
   "execution_count": 26,
   "id": "dd5087b9",
   "metadata": {},
   "outputs": [
    {
     "data": {
      "text/plain": [
       "[10]"
      ]
     },
     "execution_count": 26,
     "metadata": {},
     "output_type": "execute_result"
    }
   ],
   "source": [
    "list1[0:1]"
   ]
  },
  {
   "cell_type": "code",
   "execution_count": 27,
   "id": "d85fb1ba",
   "metadata": {},
   "outputs": [
    {
     "data": {
      "text/plain": [
       "[12, 1, 14]"
      ]
     },
     "execution_count": 27,
     "metadata": {},
     "output_type": "execute_result"
    }
   ],
   "source": [
    "list1[1:4]"
   ]
  },
  {
   "cell_type": "code",
   "execution_count": 28,
   "id": "4e07f8e3",
   "metadata": {},
   "outputs": [
    {
     "data": {
      "text/plain": [
       "[18, 19]"
      ]
     },
     "execution_count": 28,
     "metadata": {},
     "output_type": "execute_result"
    }
   ],
   "source": [
    "list2[2:4]"
   ]
  },
  {
   "cell_type": "code",
   "execution_count": 29,
   "id": "4aad485b",
   "metadata": {},
   "outputs": [],
   "source": [
    "list4=[\"a\",\"b\",\"s\",\"f\",\"g\",\"h\"]"
   ]
  },
  {
   "cell_type": "code",
   "execution_count": 30,
   "id": "e78a91cc",
   "metadata": {},
   "outputs": [
    {
     "data": {
      "text/plain": [
       "['a', 'b', 's', 'f', 'g', 'h']"
      ]
     },
     "execution_count": 30,
     "metadata": {},
     "output_type": "execute_result"
    }
   ],
   "source": [
    "list4"
   ]
  },
  {
   "cell_type": "code",
   "execution_count": 31,
   "id": "a243e169",
   "metadata": {},
   "outputs": [
    {
     "data": {
      "text/plain": [
       "['s', 'f', 'g']"
      ]
     },
     "execution_count": 31,
     "metadata": {},
     "output_type": "execute_result"
    }
   ],
   "source": [
    "list4[2:5]"
   ]
  },
  {
   "cell_type": "code",
   "execution_count": 32,
   "id": "efeecd69",
   "metadata": {},
   "outputs": [
    {
     "data": {
      "text/plain": [
       "['a', 'b', 's', 'f']"
      ]
     },
     "execution_count": 32,
     "metadata": {},
     "output_type": "execute_result"
    }
   ],
   "source": [
    "list4[0:4]"
   ]
  },
  {
   "cell_type": "code",
   "execution_count": 41,
   "id": "7635cac4",
   "metadata": {},
   "outputs": [
    {
     "data": {
      "text/plain": [
       "['a', 'b', 's', 'f', 'g', 'h']"
      ]
     },
     "execution_count": 41,
     "metadata": {},
     "output_type": "execute_result"
    }
   ],
   "source": [
    "list4[0:7]"
   ]
  },
  {
   "cell_type": "code",
   "execution_count": 42,
   "id": "d78f1307",
   "metadata": {},
   "outputs": [
    {
     "data": {
      "text/plain": [
       "['g']"
      ]
     },
     "execution_count": 42,
     "metadata": {},
     "output_type": "execute_result"
    }
   ],
   "source": [
    "list4[4:5]"
   ]
  },
  {
   "cell_type": "code",
   "execution_count": 43,
   "id": "a34912ca",
   "metadata": {},
   "outputs": [
    {
     "data": {
      "text/plain": [
       "['a', 'b', 's', 'f', 'g', 'h']"
      ]
     },
     "execution_count": 43,
     "metadata": {},
     "output_type": "execute_result"
    }
   ],
   "source": [
    "list4[0:]"
   ]
  },
  {
   "cell_type": "code",
   "execution_count": 45,
   "id": "2792d7a0",
   "metadata": {},
   "outputs": [
    {
     "data": {
      "text/plain": [
       "['a', 'b', 's', 'f', 'g', 'h']"
      ]
     },
     "execution_count": 45,
     "metadata": {},
     "output_type": "execute_result"
    }
   ],
   "source": [
    "list4[:]"
   ]
  },
  {
   "cell_type": "code",
   "execution_count": 50,
   "id": "df58c317",
   "metadata": {},
   "outputs": [
    {
     "data": {
      "text/plain": [
       "['h']"
      ]
     },
     "execution_count": 50,
     "metadata": {},
     "output_type": "execute_result"
    }
   ],
   "source": [
    "list4[5:]"
   ]
  },
  {
   "cell_type": "markdown",
   "id": "cb4f3a0a",
   "metadata": {},
   "source": [
    "# lin"
   ]
  },
  {
   "cell_type": "code",
   "execution_count": 51,
   "id": "6e12f2db",
   "metadata": {},
   "outputs": [
    {
     "data": {
      "text/plain": [
       "['a', 'b', 's', 'f', 'g', 'h']"
      ]
     },
     "execution_count": 51,
     "metadata": {},
     "output_type": "execute_result"
    }
   ],
   "source": [
    "list4[0:6]"
   ]
  },
  {
   "cell_type": "markdown",
   "id": "5945c785",
   "metadata": {},
   "source": [
    "haing"
   ]
  },
  {
   "cell_type": "markdown",
   "id": "e734993a",
   "metadata": {},
   "source": [
    "# "
   ]
  },
  {
   "cell_type": "code",
   "execution_count": 52,
   "id": "c767f5ab",
   "metadata": {},
   "outputs": [
    {
     "data": {
      "text/plain": [
       "'g'"
      ]
     },
     "execution_count": 52,
     "metadata": {},
     "output_type": "execute_result"
    }
   ],
   "source": [
    "list4[-2]"
   ]
  },
  {
   "cell_type": "code",
   "execution_count": 53,
   "id": "2d33c9da",
   "metadata": {},
   "outputs": [
    {
     "data": {
      "text/plain": [
       "[]"
      ]
     },
     "execution_count": 53,
     "metadata": {},
     "output_type": "execute_result"
    }
   ],
   "source": [
    "list4[-2:-5]"
   ]
  },
  {
   "cell_type": "code",
   "execution_count": 54,
   "id": "e3ab4b44",
   "metadata": {},
   "outputs": [
    {
     "data": {
      "text/plain": [
       "'s'"
      ]
     },
     "execution_count": 54,
     "metadata": {},
     "output_type": "execute_result"
    }
   ],
   "source": [
    "list4[-4]"
   ]
  },
  {
   "cell_type": "code",
   "execution_count": 55,
   "id": "f715c7b6",
   "metadata": {},
   "outputs": [
    {
     "data": {
      "text/plain": [
       "['s', 'f']"
      ]
     },
     "execution_count": 55,
     "metadata": {},
     "output_type": "execute_result"
    }
   ],
   "source": [
    "list4[-4:-2]"
   ]
  },
  {
   "cell_type": "code",
   "execution_count": 56,
   "id": "d3cfe7ef",
   "metadata": {},
   "outputs": [
    {
     "data": {
      "text/plain": [
       "['s', 'f', 'g', 'h']"
      ]
     },
     "execution_count": 56,
     "metadata": {},
     "output_type": "execute_result"
    }
   ],
   "source": [
    "list4[-4:]"
   ]
  },
  {
   "cell_type": "code",
   "execution_count": 57,
   "id": "c4caf25d",
   "metadata": {},
   "outputs": [
    {
     "data": {
      "text/plain": [
       "['b', 's', 'f']"
      ]
     },
     "execution_count": 57,
     "metadata": {},
     "output_type": "execute_result"
    }
   ],
   "source": [
    "list4[-5:-2]"
   ]
  },
  {
   "cell_type": "code",
   "execution_count": 58,
   "id": "abbf54af",
   "metadata": {},
   "outputs": [
    {
     "data": {
      "text/plain": [
       "['a', 'b', 's', 'f', 'g', 'h']"
      ]
     },
     "execution_count": 58,
     "metadata": {},
     "output_type": "execute_result"
    }
   ],
   "source": [
    "list4[-6:]"
   ]
  },
  {
   "cell_type": "code",
   "execution_count": null,
   "id": "b4b02940",
   "metadata": {},
   "outputs": [],
   "source": []
  }
 ],
 "metadata": {
  "kernelspec": {
   "display_name": "Python 3 (ipykernel)",
   "language": "python",
   "name": "python3"
  },
  "language_info": {
   "codemirror_mode": {
    "name": "ipython",
    "version": 3
   },
   "file_extension": ".py",
   "mimetype": "text/x-python",
   "name": "python",
   "nbconvert_exporter": "python",
   "pygments_lexer": "ipython3",
   "version": "3.9.12"
  }
 },
 "nbformat": 4,
 "nbformat_minor": 5
}
